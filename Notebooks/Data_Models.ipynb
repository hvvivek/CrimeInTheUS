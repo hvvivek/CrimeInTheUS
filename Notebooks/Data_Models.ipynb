{
 "cells": [
  {
   "cell_type": "markdown",
   "metadata": {
    "collapsed": true
   },
   "source": [
    "# Data Models"
   ]
  },
  {
   "cell_type": "markdown",
   "metadata": {},
   "source": [
    "### Import Libraries"
   ]
  },
  {
   "cell_type": "code",
   "execution_count": 86,
   "metadata": {},
   "outputs": [],
   "source": [
    "import numpy as np\n",
    "import pandas as pd\n",
    "import matplotlib\n",
    "import matplotlib.pyplot as plt\n",
    "\n",
    "from sklearn.metrics import r2_score\n",
    "import statsmodels.api as sm\n",
    "from statsmodels.api import OLS\n",
    "from sklearn.preprocessing import PolynomialFeatures\n",
    "from sklearn.linear_model import Ridge\n",
    "from sklearn.linear_model import Lasso\n",
    "from sklearn.linear_model import RidgeCV\n",
    "from sklearn.linear_model import LassoCV\n",
    "from sklearn.linear_model import LinearRegression\n",
    "\n",
    "from sklearn.model_selection import KFold\n",
    "from sklearn.decomposition import PCA\n",
    "\n",
    "#import pydotplus\n",
    "#import io\n",
    "from sklearn.tree import export_graphviz\n",
    "from IPython.display import Image\n",
    "from IPython.display import display\n",
    "import seaborn as sns\n",
    "%matplotlib inline"
   ]
  },
  {
   "cell_type": "markdown",
   "metadata": {},
   "source": [
    "### Define Functions"
   ]
  },
  {
   "cell_type": "code",
   "execution_count": 87,
   "metadata": {
    "collapsed": true
   },
   "outputs": [],
   "source": [
    "def despine():\n",
    "    sns.despine(left=True, bottom=True)\n",
    "    \n",
    "def get_axs(rows, columns, fig_size_width, fig_size_height):\n",
    "    dims = (fig_size_width, fig_size_height)\n",
    "    fig, axs = plt.subplots(rows, columns, figsize=dims)\n",
    "    if(rows*columns>1):\n",
    "         axs = axs.ravel()\n",
    "    return axs\n",
    "\n",
    "def get_accuracy_model(X, Y, model):\n",
    "    Y_pred = model.predict(X)\n",
    "    misclassification_rate = np.mean([int(x) for x in Y_pred != Y])\n",
    "    return 1 - misclassification_rate\n",
    "\n",
    "def get_accuracy_pred(Y, Y_pred):\n",
    "    misclassification_rate = np.mean([int(x) for x in Y_pred != Y])\n",
    "    return 1 - misclassification_rate\n",
    "\n",
    "def split_dataset(data, train_size_pc, y_col):\n",
    "    np.random.seed(9001)\n",
    "    msk = np.random.rand(len(data)) < train_size_pc\n",
    "    data_train = data[msk]\n",
    "    data_test = data[~msk]\n",
    "\n",
    "    x_train = data_train.iloc[:,0:y_col]\n",
    "    y_train = data_train.iloc[:,y_col]\n",
    "\n",
    "    x_test = data_test.iloc[:,0:y_col]\n",
    "    y_test = data_test.iloc[:,y_col]\n",
    "    return x_train, y_train, x_test, y_test\n",
    "\n",
    "def set_title_xlabel_ylabel(ax, title, xlabel, ylabel):\n",
    "    ax.set_title(title)\n",
    "    ax.set_xlabel(xlabel)\n",
    "    ax.set_ylabel(ylabel)"
   ]
  },
  {
   "cell_type": "code",
   "execution_count": 88,
   "metadata": {
    "collapsed": true
   },
   "outputs": [],
   "source": [
    "sns.set(rc={'axes.facecolor':'white', 'figure.facecolor':'white'})\n",
    "sns.set_style(\"whitegrid\")\n",
    "sns.set(font_scale=1.3)"
   ]
  },
  {
   "cell_type": "markdown",
   "metadata": {},
   "source": [
    "## Import Dataset"
   ]
  },
  {
   "cell_type": "code",
   "execution_count": 89,
   "metadata": {
    "collapsed": true
   },
   "outputs": [],
   "source": [
    "census_data = pd.read_csv(\"crime_data.csv\", index_col=0)\n",
    "results = pd.DataFrame([], columns = [\"model\", \"train_score\", \"test_score\"])"
   ]
  },
  {
   "cell_type": "markdown",
   "metadata": {},
   "source": [
    "### Dropping all rows with missing values"
   ]
  },
  {
   "cell_type": "code",
   "execution_count": 90,
   "metadata": {},
   "outputs": [],
   "source": [
    "census_data = census_data.dropna(how='any')"
   ]
  },
  {
   "cell_type": "markdown",
   "metadata": {},
   "source": [
    "### Hot One Encoding Categorical Variables"
   ]
  },
  {
   "cell_type": "code",
   "execution_count": 91,
   "metadata": {
    "collapsed": true
   },
   "outputs": [],
   "source": [
    "#categorical\n",
    "cat_vars = ['year']\n",
    "\n",
    "split = {}\n",
    "split_test = {}\n",
    "\n",
    "def hot_one_encoding(data, cat_vars):\n",
    "    for var in cat_vars:\n",
    "        s_var = pd.Series(data[var])\n",
    "        split[var] = pd.get_dummies(s_var)\n",
    "\n",
    "        func = lambda x: var + '_'+ str(x)\n",
    "\n",
    "        cols = list(map(func, list(split[var].columns)[1:]))\n",
    "        split[var] = split[var].drop(split[var].columns[0], axis=1)\n",
    "        split[var].columns = cols\n",
    "\n",
    "        data = data.join(split[var])\n",
    "\n",
    "        del data[var]\n",
    "    return data"
   ]
  },
  {
   "cell_type": "markdown",
   "metadata": {},
   "source": [
    "### Normalizing all quantitative variables"
   ]
  },
  {
   "cell_type": "code",
   "execution_count": 92,
   "metadata": {
    "collapsed": true
   },
   "outputs": [],
   "source": [
    "quant_vars = ['msa', 'pop', 'r1', 'r2', 'r3', 'r4', 'r5', 'r6', 'r7', 'm1', 'm2',\n",
    "       'm3', 'm4', 'm5', 'i1', 'i2', 'e1', 'e2', 'e3', 'e4', 'e5', 'a1', 'a2',\n",
    "       'a3', 'a4', 'a5', 'a6', 'a7', 'e6', 'vr', 'mtof', 'firearms',\n",
    "       'murder_rate']"
   ]
  },
  {
   "cell_type": "code",
   "execution_count": 93,
   "metadata": {
    "collapsed": true
   },
   "outputs": [],
   "source": [
    "census_data = census_data.drop(['msa', 'year'], axis=1)\n",
    "# census_data = hot_one_encoding(census_data, cat_vars)\n",
    "quant_vars = list(census_data.columns)\n",
    "quant_vars = ['pop', 'i1', 'i2', 'firearms']\n",
    "for var in quant_vars:\n",
    "    var_mean = np.mean(census_data[var])\n",
    "    var_std = np.std(census_data[var])\n",
    "    census_data[var + '_std'] = (census_data[var]-var_mean)/var_std\n",
    "    del census_data[var]"
   ]
  },
  {
   "cell_type": "markdown",
   "metadata": {},
   "source": [
    "### Train and Test Split"
   ]
  },
  {
   "cell_type": "code",
   "execution_count": 94,
   "metadata": {
    "collapsed": true
   },
   "outputs": [],
   "source": [
    "np.random.seed(9001)\n",
    "msk = np.random.rand(len(census_data)) < 0.75\n",
    "census_train = census_data[msk]\n",
    "census_test = census_data[~msk]\n",
    "features = list(census_data.columns)\n",
    "features.remove('murder_rate')\n",
    "end = len(census_data.columns)\n",
    "x_train = census_train[features]\n",
    "y_train = census_train['murder_rate']\n",
    "\n",
    "x_test = census_test[features]\n",
    "y_test = census_test['murder_rate']"
   ]
  },
  {
   "cell_type": "markdown",
   "metadata": {},
   "source": [
    "### Baseline Model"
   ]
  },
  {
   "cell_type": "code",
   "execution_count": 95,
   "metadata": {
    "collapsed": true
   },
   "outputs": [],
   "source": [
    "#LINEAR REGRESSION\n",
    "lin_reg = LinearRegression()\n",
    "lin_reg.fit(x_train, y_train)\n",
    "y_pred_train = lin_reg.predict(x_train)\n",
    "y_pred_test = lin_reg.predict(x_test)"
   ]
  },
  {
   "cell_type": "code",
   "execution_count": 96,
   "metadata": {
    "collapsed": true
   },
   "outputs": [],
   "source": [
    "train_score = r2_score(y_train, y_pred_train)\n",
    "test_score = r2_score(y_test, y_pred_test)\n",
    "results = results.append({\"model\":\"Linear Regression\", \"train_score\":train_score, \"test_score\":test_score}, ignore_index=True)"
   ]
  },
  {
   "cell_type": "code",
   "execution_count": 97,
   "metadata": {},
   "outputs": [
    {
     "name": "stdout",
     "output_type": "stream",
     "text": [
      "                            OLS Regression Results                            \n",
      "==============================================================================\n",
      "Dep. Variable:            murder_rate   R-squared:                       0.516\n",
      "Model:                            OLS   Adj. R-squared:                  0.511\n",
      "Method:                 Least Squares   F-statistic:                     92.87\n",
      "Date:                Thu, 07 Dec 2017   Prob (F-statistic):               0.00\n",
      "Time:                        20:21:27   Log-Likelihood:                -6359.6\n",
      "No. Observations:                2642   AIC:                         1.278e+04\n",
      "Df Residuals:                    2611   BIC:                         1.296e+04\n",
      "Df Model:                          30                                         \n",
      "Covariance Type:            nonrobust                                         \n",
      "================================================================================\n",
      "                   coef    std err          t      P>|t|      [0.025      0.975]\n",
      "--------------------------------------------------------------------------------\n",
      "const            7.2141      4.847      1.488      0.137      -2.290      16.718\n",
      "r1               2.3092      1.743      1.325      0.185      -1.109       5.727\n",
      "r2              20.6499      1.731     11.928      0.000      17.255      24.045\n",
      "r3               6.0993      2.646      2.305      0.021       0.911      11.287\n",
      "r4               1.6527      3.724      0.444      0.657      -5.649       8.955\n",
      "r5             -96.1706     12.809     -7.508      0.000    -121.288     -71.054\n",
      "r6              19.7812      2.101      9.416      0.000      15.662      23.901\n",
      "r7              52.8924      4.096     12.913      0.000      44.860      60.924\n",
      "m1             165.8571     99.448      1.668      0.095     -29.147     360.861\n",
      "m2             205.8156     99.645      2.065      0.039      10.424     401.207\n",
      "m3             198.8532     99.550      1.998      0.046       3.648     394.058\n",
      "m4             158.9648     99.878      1.592      0.112     -36.883     354.812\n",
      "m5             185.9452     99.524      1.868      0.062      -9.208     381.099\n",
      "e1              13.5237      4.084      3.311      0.001       5.515      21.532\n",
      "e2              -4.8460      5.232     -0.926      0.354     -15.106       5.414\n",
      "e3               6.4311      3.362      1.913      0.056      -0.162      13.025\n",
      "e4              15.9294      4.698      3.391      0.001       6.718      25.141\n",
      "e5               2.3189      1.673      1.386      0.166      -0.961       5.599\n",
      "a1            -203.0996    100.051     -2.030      0.042    -399.288      -6.912\n",
      "a2            -216.1023     99.691     -2.168      0.030    -411.584     -20.620\n",
      "a3            -168.8144    100.089     -1.687      0.092    -365.076      27.447\n",
      "a4            -214.3905    100.235     -2.139      0.033    -410.938     -17.843\n",
      "a5            -183.7737     99.897     -1.840      0.066    -379.658      12.111\n",
      "a6            -192.4230     99.743     -1.929      0.054    -388.007       3.161\n",
      "a7            -191.6246     99.502     -1.926      0.054    -386.735       3.486\n",
      "e6              -1.6722      3.369     -0.496      0.620      -8.278       4.934\n",
      "vr               2.3909      1.185      2.018      0.044       0.068       4.714\n",
      "mtof            -1.1853      1.708     -0.694      0.488      -4.534       2.163\n",
      "pop_std         -0.1005      0.070     -1.435      0.151      -0.238       0.037\n",
      "i1_std          -0.7292      0.338     -2.157      0.031      -1.392      -0.066\n",
      "i2_std          -0.0210      0.373     -0.056      0.955      -0.753       0.711\n",
      "firearms_std    -0.0931      0.060     -1.559      0.119      -0.210       0.024\n",
      "==============================================================================\n",
      "Omnibus:                     1131.306   Durbin-Watson:                   2.000\n",
      "Prob(Omnibus):                  0.000   Jarque-Bera (JB):            12808.311\n",
      "Skew:                           1.712   Prob(JB):                         0.00\n",
      "Kurtosis:                      13.229   Cond. No.                     5.74e+15\n",
      "==============================================================================\n",
      "\n",
      "Warnings:\n",
      "[1] Standard Errors assume that the covariance matrix of the errors is correctly specified.\n",
      "[2] The smallest eigenvalue is 2.54e-28. This might indicate that there are\n",
      "strong multicollinearity problems or that the design matrix is singular.\n"
     ]
    }
   ],
   "source": [
    "x_train_with_constants = sm.add_constant(x_train)\n",
    "est = sm.OLS(y_train, x_train_with_constants)\n",
    "est = est.fit()\n",
    "print(est.summary())"
   ]
  },
  {
   "cell_type": "markdown",
   "metadata": {},
   "source": [
    "### Multiple Models - Ridge, Lasso and Polynomial"
   ]
  },
  {
   "cell_type": "markdown",
   "metadata": {},
   "source": [
    "#### Ridge with Cross Validation"
   ]
  },
  {
   "cell_type": "code",
   "execution_count": 98,
   "metadata": {
    "collapsed": true
   },
   "outputs": [],
   "source": [
    "ridge = RidgeCV()\n",
    "ridge.fit(x_train, y_train)\n",
    "y_pred_train = ridge.predict(x_train)\n",
    "y_pred_test = ridge.predict(x_test)\n",
    "train_score = r2_score(y_train, y_pred_train)\n",
    "test_score = r2_score(y_test, y_pred_test)\n",
    "results = results.append({\"model\":\"Ridge Cross Validated\", \"train_score\":train_score, \"test_score\":test_score}, ignore_index=True)"
   ]
  },
  {
   "cell_type": "code",
   "execution_count": 99,
   "metadata": {},
   "outputs": [
    {
     "data": {
      "text/html": [
       "<div>\n",
       "<style>\n",
       "    .dataframe thead tr:only-child th {\n",
       "        text-align: right;\n",
       "    }\n",
       "\n",
       "    .dataframe thead th {\n",
       "        text-align: left;\n",
       "    }\n",
       "\n",
       "    .dataframe tbody tr th {\n",
       "        vertical-align: top;\n",
       "    }\n",
       "</style>\n",
       "<table border=\"1\" class=\"dataframe\">\n",
       "  <thead>\n",
       "    <tr style=\"text-align: right;\">\n",
       "      <th></th>\n",
       "      <th>Value</th>\n",
       "      <th>Sign</th>\n",
       "      <th>Coef</th>\n",
       "    </tr>\n",
       "  </thead>\n",
       "  <tbody>\n",
       "    <tr>\n",
       "      <th>0</th>\n",
       "      <td>31.491006</td>\n",
       "      <td>1.0</td>\n",
       "      <td>r7</td>\n",
       "    </tr>\n",
       "    <tr>\n",
       "      <th>1</th>\n",
       "      <td>26.751318</td>\n",
       "      <td>-1.0</td>\n",
       "      <td>r5</td>\n",
       "    </tr>\n",
       "    <tr>\n",
       "      <th>2</th>\n",
       "      <td>20.278714</td>\n",
       "      <td>-1.0</td>\n",
       "      <td>m1</td>\n",
       "    </tr>\n",
       "    <tr>\n",
       "      <th>3</th>\n",
       "      <td>20.041086</td>\n",
       "      <td>-1.0</td>\n",
       "      <td>a2</td>\n",
       "    </tr>\n",
       "    <tr>\n",
       "      <th>4</th>\n",
       "      <td>14.669455</td>\n",
       "      <td>-1.0</td>\n",
       "      <td>r4</td>\n",
       "    </tr>\n",
       "    <tr>\n",
       "      <th>5</th>\n",
       "      <td>12.645540</td>\n",
       "      <td>1.0</td>\n",
       "      <td>e1</td>\n",
       "    </tr>\n",
       "    <tr>\n",
       "      <th>6</th>\n",
       "      <td>12.203959</td>\n",
       "      <td>1.0</td>\n",
       "      <td>e4</td>\n",
       "    </tr>\n",
       "    <tr>\n",
       "      <th>7</th>\n",
       "      <td>11.208201</td>\n",
       "      <td>1.0</td>\n",
       "      <td>r6</td>\n",
       "    </tr>\n",
       "    <tr>\n",
       "      <th>8</th>\n",
       "      <td>10.548848</td>\n",
       "      <td>1.0</td>\n",
       "      <td>m3</td>\n",
       "    </tr>\n",
       "    <tr>\n",
       "      <th>9</th>\n",
       "      <td>10.152961</td>\n",
       "      <td>1.0</td>\n",
       "      <td>r2</td>\n",
       "    </tr>\n",
       "    <tr>\n",
       "      <th>10</th>\n",
       "      <td>9.419112</td>\n",
       "      <td>1.0</td>\n",
       "      <td>a3</td>\n",
       "    </tr>\n",
       "    <tr>\n",
       "      <th>11</th>\n",
       "      <td>7.982711</td>\n",
       "      <td>-1.0</td>\n",
       "      <td>r1</td>\n",
       "    </tr>\n",
       "    <tr>\n",
       "      <th>12</th>\n",
       "      <td>7.676144</td>\n",
       "      <td>1.0</td>\n",
       "      <td>m2</td>\n",
       "    </tr>\n",
       "    <tr>\n",
       "      <th>13</th>\n",
       "      <td>7.096209</td>\n",
       "      <td>-1.0</td>\n",
       "      <td>m4</td>\n",
       "    </tr>\n",
       "    <tr>\n",
       "      <th>14</th>\n",
       "      <td>7.065352</td>\n",
       "      <td>-1.0</td>\n",
       "      <td>a1</td>\n",
       "    </tr>\n",
       "    <tr>\n",
       "      <th>15</th>\n",
       "      <td>5.859527</td>\n",
       "      <td>-1.0</td>\n",
       "      <td>e2</td>\n",
       "    </tr>\n",
       "    <tr>\n",
       "      <th>16</th>\n",
       "      <td>4.330672</td>\n",
       "      <td>1.0</td>\n",
       "      <td>a5</td>\n",
       "    </tr>\n",
       "    <tr>\n",
       "      <th>17</th>\n",
       "      <td>4.271342</td>\n",
       "      <td>1.0</td>\n",
       "      <td>e3</td>\n",
       "    </tr>\n",
       "    <tr>\n",
       "      <th>18</th>\n",
       "      <td>3.448684</td>\n",
       "      <td>-1.0</td>\n",
       "      <td>r3</td>\n",
       "    </tr>\n",
       "    <tr>\n",
       "      <th>19</th>\n",
       "      <td>3.047561</td>\n",
       "      <td>-1.0</td>\n",
       "      <td>e6</td>\n",
       "    </tr>\n",
       "    <tr>\n",
       "      <th>20</th>\n",
       "      <td>2.819151</td>\n",
       "      <td>-1.0</td>\n",
       "      <td>a4</td>\n",
       "    </tr>\n",
       "    <tr>\n",
       "      <th>21</th>\n",
       "      <td>2.429502</td>\n",
       "      <td>1.0</td>\n",
       "      <td>a6</td>\n",
       "    </tr>\n",
       "    <tr>\n",
       "      <th>22</th>\n",
       "      <td>2.334499</td>\n",
       "      <td>-1.0</td>\n",
       "      <td>m5</td>\n",
       "    </tr>\n",
       "    <tr>\n",
       "      <th>23</th>\n",
       "      <td>2.183503</td>\n",
       "      <td>1.0</td>\n",
       "      <td>e5</td>\n",
       "    </tr>\n",
       "    <tr>\n",
       "      <th>24</th>\n",
       "      <td>1.573345</td>\n",
       "      <td>1.0</td>\n",
       "      <td>vr</td>\n",
       "    </tr>\n",
       "    <tr>\n",
       "      <th>25</th>\n",
       "      <td>1.434026</td>\n",
       "      <td>-1.0</td>\n",
       "      <td>mtof</td>\n",
       "    </tr>\n",
       "    <tr>\n",
       "      <th>26</th>\n",
       "      <td>0.873549</td>\n",
       "      <td>-1.0</td>\n",
       "      <td>i1_std</td>\n",
       "    </tr>\n",
       "    <tr>\n",
       "      <th>27</th>\n",
       "      <td>0.719188</td>\n",
       "      <td>1.0</td>\n",
       "      <td>a7</td>\n",
       "    </tr>\n",
       "    <tr>\n",
       "      <th>28</th>\n",
       "      <td>0.143997</td>\n",
       "      <td>1.0</td>\n",
       "      <td>i2_std</td>\n",
       "    </tr>\n",
       "    <tr>\n",
       "      <th>29</th>\n",
       "      <td>0.111040</td>\n",
       "      <td>-1.0</td>\n",
       "      <td>firearms_std</td>\n",
       "    </tr>\n",
       "  </tbody>\n",
       "</table>\n",
       "</div>"
      ],
      "text/plain": [
       "        Value  Sign          Coef\n",
       "0   31.491006   1.0            r7\n",
       "1   26.751318  -1.0            r5\n",
       "2   20.278714  -1.0            m1\n",
       "3   20.041086  -1.0            a2\n",
       "4   14.669455  -1.0            r4\n",
       "5   12.645540   1.0            e1\n",
       "6   12.203959   1.0            e4\n",
       "7   11.208201   1.0            r6\n",
       "8   10.548848   1.0            m3\n",
       "9   10.152961   1.0            r2\n",
       "10   9.419112   1.0            a3\n",
       "11   7.982711  -1.0            r1\n",
       "12   7.676144   1.0            m2\n",
       "13   7.096209  -1.0            m4\n",
       "14   7.065352  -1.0            a1\n",
       "15   5.859527  -1.0            e2\n",
       "16   4.330672   1.0            a5\n",
       "17   4.271342   1.0            e3\n",
       "18   3.448684  -1.0            r3\n",
       "19   3.047561  -1.0            e6\n",
       "20   2.819151  -1.0            a4\n",
       "21   2.429502   1.0            a6\n",
       "22   2.334499  -1.0            m5\n",
       "23   2.183503   1.0            e5\n",
       "24   1.573345   1.0            vr\n",
       "25   1.434026  -1.0          mtof\n",
       "26   0.873549  -1.0        i1_std\n",
       "27   0.719188   1.0            a7\n",
       "28   0.143997   1.0        i2_std\n",
       "29   0.111040  -1.0  firearms_std"
      ]
     },
     "execution_count": 99,
     "metadata": {},
     "output_type": "execute_result"
    }
   ],
   "source": [
    "RidgeCoefficients = pd.DataFrame(list(zip([np.abs(coef) for coef in ridge.coef_], [np.abs(coef)/coef for coef in ridge.coef_], x_train.columns)), columns=['Value', 'Sign', 'Coef'])\n",
    "RidgeCoefficients = RidgeCoefficients[RidgeCoefficients['Value']>0.1].sort_values(['Value'], ascending=[0])\n",
    "RidgeCoefficients.index = list(range(0, RidgeCoefficients.shape[0]))\n",
    "RidgeCoefficients"
   ]
  },
  {
   "cell_type": "markdown",
   "metadata": {},
   "source": [
    "#### Lasso with Cross Validation"
   ]
  },
  {
   "cell_type": "code",
   "execution_count": 100,
   "metadata": {
    "collapsed": true
   },
   "outputs": [],
   "source": [
    "lasso = LassoCV()\n",
    "lasso.fit(x_train, y_train)\n",
    "y_pred_train = lasso.predict(x_train)\n",
    "y_pred_test = lasso.predict(x_test)\n",
    "train_score = r2_score(y_train, y_pred_train)\n",
    "test_score = r2_score(y_test, y_pred_test)\n",
    "results = results.append({\"model\":\"Lasso Cross Validated\", \"train_score\":train_score, \"test_score\":test_score}, ignore_index=True)"
   ]
  },
  {
   "cell_type": "code",
   "execution_count": 101,
   "metadata": {},
   "outputs": [
    {
     "name": "stderr",
     "output_type": "stream",
     "text": [
      "C:\\Software\\Anaconda3\\lib\\site-packages\\ipykernel_launcher.py:1: RuntimeWarning: invalid value encountered in double_scalars\n",
      "  \"\"\"Entry point for launching an IPython kernel.\n"
     ]
    },
    {
     "data": {
      "text/html": [
       "<div>\n",
       "<style>\n",
       "    .dataframe thead tr:only-child th {\n",
       "        text-align: right;\n",
       "    }\n",
       "\n",
       "    .dataframe thead th {\n",
       "        text-align: left;\n",
       "    }\n",
       "\n",
       "    .dataframe tbody tr th {\n",
       "        vertical-align: top;\n",
       "    }\n",
       "</style>\n",
       "<table border=\"1\" class=\"dataframe\">\n",
       "  <thead>\n",
       "    <tr style=\"text-align: right;\">\n",
       "      <th></th>\n",
       "      <th>Value</th>\n",
       "      <th>Sign</th>\n",
       "      <th>Coef</th>\n",
       "    </tr>\n",
       "  </thead>\n",
       "  <tbody>\n",
       "    <tr>\n",
       "      <th>0</th>\n",
       "      <td>35.319289</td>\n",
       "      <td>1.0</td>\n",
       "      <td>r7</td>\n",
       "    </tr>\n",
       "    <tr>\n",
       "      <th>1</th>\n",
       "      <td>26.304059</td>\n",
       "      <td>-1.0</td>\n",
       "      <td>a2</td>\n",
       "    </tr>\n",
       "    <tr>\n",
       "      <th>2</th>\n",
       "      <td>19.096901</td>\n",
       "      <td>-1.0</td>\n",
       "      <td>m1</td>\n",
       "    </tr>\n",
       "    <tr>\n",
       "      <th>3</th>\n",
       "      <td>15.198220</td>\n",
       "      <td>1.0</td>\n",
       "      <td>r6</td>\n",
       "    </tr>\n",
       "    <tr>\n",
       "      <th>4</th>\n",
       "      <td>14.014587</td>\n",
       "      <td>1.0</td>\n",
       "      <td>r2</td>\n",
       "    </tr>\n",
       "    <tr>\n",
       "      <th>5</th>\n",
       "      <td>10.903004</td>\n",
       "      <td>-1.0</td>\n",
       "      <td>r4</td>\n",
       "    </tr>\n",
       "    <tr>\n",
       "      <th>6</th>\n",
       "      <td>8.586073</td>\n",
       "      <td>1.0</td>\n",
       "      <td>e4</td>\n",
       "    </tr>\n",
       "    <tr>\n",
       "      <th>7</th>\n",
       "      <td>7.662272</td>\n",
       "      <td>1.0</td>\n",
       "      <td>e1</td>\n",
       "    </tr>\n",
       "    <tr>\n",
       "      <th>8</th>\n",
       "      <td>4.758945</td>\n",
       "      <td>1.0</td>\n",
       "      <td>m3</td>\n",
       "    </tr>\n",
       "    <tr>\n",
       "      <th>9</th>\n",
       "      <td>4.409728</td>\n",
       "      <td>-1.0</td>\n",
       "      <td>r5</td>\n",
       "    </tr>\n",
       "    <tr>\n",
       "      <th>10</th>\n",
       "      <td>4.341127</td>\n",
       "      <td>-1.0</td>\n",
       "      <td>e6</td>\n",
       "    </tr>\n",
       "    <tr>\n",
       "      <th>11</th>\n",
       "      <td>3.418771</td>\n",
       "      <td>-1.0</td>\n",
       "      <td>r1</td>\n",
       "    </tr>\n",
       "    <tr>\n",
       "      <th>12</th>\n",
       "      <td>1.292123</td>\n",
       "      <td>1.0</td>\n",
       "      <td>vr</td>\n",
       "    </tr>\n",
       "    <tr>\n",
       "      <th>13</th>\n",
       "      <td>1.289610</td>\n",
       "      <td>-1.0</td>\n",
       "      <td>i1_std</td>\n",
       "    </tr>\n",
       "    <tr>\n",
       "      <th>14</th>\n",
       "      <td>0.569240</td>\n",
       "      <td>1.0</td>\n",
       "      <td>i2_std</td>\n",
       "    </tr>\n",
       "    <tr>\n",
       "      <th>15</th>\n",
       "      <td>0.568501</td>\n",
       "      <td>1.0</td>\n",
       "      <td>e5</td>\n",
       "    </tr>\n",
       "    <tr>\n",
       "      <th>16</th>\n",
       "      <td>0.439553</td>\n",
       "      <td>1.0</td>\n",
       "      <td>e3</td>\n",
       "    </tr>\n",
       "    <tr>\n",
       "      <th>17</th>\n",
       "      <td>0.263765</td>\n",
       "      <td>-1.0</td>\n",
       "      <td>mtof</td>\n",
       "    </tr>\n",
       "    <tr>\n",
       "      <th>18</th>\n",
       "      <td>0.126567</td>\n",
       "      <td>-1.0</td>\n",
       "      <td>firearms_std</td>\n",
       "    </tr>\n",
       "  </tbody>\n",
       "</table>\n",
       "</div>"
      ],
      "text/plain": [
       "        Value  Sign          Coef\n",
       "0   35.319289   1.0            r7\n",
       "1   26.304059  -1.0            a2\n",
       "2   19.096901  -1.0            m1\n",
       "3   15.198220   1.0            r6\n",
       "4   14.014587   1.0            r2\n",
       "5   10.903004  -1.0            r4\n",
       "6    8.586073   1.0            e4\n",
       "7    7.662272   1.0            e1\n",
       "8    4.758945   1.0            m3\n",
       "9    4.409728  -1.0            r5\n",
       "10   4.341127  -1.0            e6\n",
       "11   3.418771  -1.0            r1\n",
       "12   1.292123   1.0            vr\n",
       "13   1.289610  -1.0        i1_std\n",
       "14   0.569240   1.0        i2_std\n",
       "15   0.568501   1.0            e5\n",
       "16   0.439553   1.0            e3\n",
       "17   0.263765  -1.0          mtof\n",
       "18   0.126567  -1.0  firearms_std"
      ]
     },
     "execution_count": 101,
     "metadata": {},
     "output_type": "execute_result"
    }
   ],
   "source": [
    "LassoCoefficients = pd.DataFrame(list(zip([np.abs(coef) for coef in lasso.coef_], [np.abs(coef)/coef for coef in lasso.coef_], x_train.columns)), columns=['Value', 'Sign', 'Coef'])\n",
    "LassoCoefficients = LassoCoefficients[LassoCoefficients['Value']>0.1].sort_values(['Value'], ascending=[0])\n",
    "LassoCoefficients.index = list(range(0, LassoCoefficients.shape[0]))\n",
    "LassoCoefficients"
   ]
  },
  {
   "cell_type": "markdown",
   "metadata": {},
   "source": [
    "#### Polynomial Features - Linear, Ridge and Lasso"
   ]
  },
  {
   "cell_type": "code",
   "execution_count": 102,
   "metadata": {},
   "outputs": [
    {
     "name": "stderr",
     "output_type": "stream",
     "text": [
      "C:\\Software\\Anaconda3\\lib\\site-packages\\sklearn\\linear_model\\coordinate_descent.py:491: ConvergenceWarning: Objective did not converge. You might want to increase the number of iterations. Fitting data with very small alpha may cause precision problems.\n",
      "  ConvergenceWarning)\n",
      "C:\\Software\\Anaconda3\\lib\\site-packages\\sklearn\\linear_model\\coordinate_descent.py:491: ConvergenceWarning: Objective did not converge. You might want to increase the number of iterations. Fitting data with very small alpha may cause precision problems.\n",
      "  ConvergenceWarning)\n"
     ]
    }
   ],
   "source": [
    "poly = PolynomialFeatures(degree = 2)\n",
    "x_train_poly = poly.fit_transform(x_train)\n",
    "x_test_poly = poly.transform(x_test)\n",
    "\n",
    "lin_reg = LinearRegression()\n",
    "ridge = RidgeCV()\n",
    "lasso = LassoCV()\n",
    "\n",
    "lin_reg.fit(x_train_poly, y_train)\n",
    "y_pred_train = lin_reg.predict(x_train_poly)\n",
    "y_pred_test = lin_reg.predict(x_test_poly)\n",
    "train_score = r2_score(y_train, y_pred_train)\n",
    "test_score = r2_score(y_test, y_pred_test)\n",
    "results = results.append({\"model\":\"Linear Regression with Polynomial Features\", \"train_score\":train_score, \"test_score\":test_score}, ignore_index=True)\n",
    "\n",
    "ridge.fit(x_train_poly, y_train)\n",
    "y_pred_train = ridge.predict(x_train_poly)\n",
    "y_pred_test = ridge.predict(x_test_poly)\n",
    "train_score = r2_score(y_train, y_pred_train)\n",
    "test_score = r2_score(y_test, y_pred_test)\n",
    "results = results.append({\"model\":\"Lasso Cross Validated with Polynomial Features\", \"train_score\":train_score, \"test_score\":test_score}, ignore_index=True)\n",
    "\n",
    "lasso.fit(x_train_poly, y_train)\n",
    "y_pred_train = lasso.predict(x_train_poly)\n",
    "y_pred_test = lasso.predict(x_test_poly)\n",
    "train_score = r2_score(y_train, y_pred_train)\n",
    "test_score = r2_score(y_test, y_pred_test)\n",
    "results = results.append({\"model\":\"Ridge Cross Validated with Polynomial Features\", \"train_score\":train_score, \"test_score\":test_score}, ignore_index=True)"
   ]
  },
  {
   "cell_type": "markdown",
   "metadata": {},
   "source": [
    "#### Interaction Terms"
   ]
  },
  {
   "cell_type": "markdown",
   "metadata": {},
   "source": [
    "From our EDA we hypothesized that multi-ethnic communnities might have higher murder rates. To test this hypothesis we will use a interaction term that multiplies all the race proportions and add to our train and test models"
   ]
  },
  {
   "cell_type": "code",
   "execution_count": 103,
   "metadata": {},
   "outputs": [],
   "source": [
    "x_train['multi_ethnic'] = x_train['r1'] * x_train['r2'] * x_train['r3'] * x_train['r4'] * x_train['r5'] * x_train['r6'] * x_train['r7'] \n",
    "x_test['multi_ethnic'] = x_test['r1'] * x_test['r2'] * x_test['r3'] * x_test['r4'] * x_test['r5'] * x_test['r6'] * x_test['r7'] "
   ]
  },
  {
   "cell_type": "markdown",
   "metadata": {},
   "source": [
    "#### Normalizing"
   ]
  },
  {
   "cell_type": "code",
   "execution_count": 104,
   "metadata": {
    "collapsed": true
   },
   "outputs": [],
   "source": [
    "quant_vars = ['multi_ethnic']\n",
    "for var in quant_vars:\n",
    "    var_mean = np.mean(x_train[var])\n",
    "    var_std = np.std(x_train[var])\n",
    "    x_train[var + '_std'] = (x_train[var]-var_mean)/var_std\n",
    "    del x_train[var]\n",
    "for var in quant_vars:\n",
    "    var_mean = np.mean(x_test[var])\n",
    "    var_std = np.std(x_test[var])\n",
    "    x_test[var + '_std'] = (x_test[var]-var_mean)/var_std\n",
    "    del x_test[var]"
   ]
  },
  {
   "cell_type": "markdown",
   "metadata": {},
   "source": [
    "#### Modeling"
   ]
  },
  {
   "cell_type": "code",
   "execution_count": 105,
   "metadata": {
    "collapsed": true
   },
   "outputs": [],
   "source": [
    "lin_reg.fit(x_train, y_train)\n",
    "y_pred_train = lin_reg.predict(x_train)\n",
    "y_pred_test = lin_reg.predict(x_test)\n",
    "train_score = r2_score(y_train, y_pred_train)\n",
    "test_score = r2_score(y_test, y_pred_test)\n",
    "results = results.append({\"model\":\"Linear Regression with Interaction\", \"train_score\":train_score, \"test_score\":test_score}, ignore_index=True)\n",
    "\n",
    "ridge.fit(x_train, y_train)\n",
    "y_pred_train = ridge.predict(x_train)\n",
    "y_pred_test = ridge.predict(x_test)\n",
    "train_score = r2_score(y_train, y_pred_train)\n",
    "test_score = r2_score(y_test, y_pred_test)\n",
    "results = results.append({\"model\":\"Lasso Cross Validated with Interaction\", \"train_score\":train_score, \"test_score\":test_score}, ignore_index=True)\n",
    "\n",
    "lasso.fit(x_train, y_train)\n",
    "y_pred_train = lasso.predict(x_train)\n",
    "y_pred_test = lasso.predict(x_test)\n",
    "train_score = r2_score(y_train, y_pred_train)\n",
    "test_score = r2_score(y_test, y_pred_test)\n",
    "results = results.append({\"model\":\"Ridge Cross Validated with Interaction\", \"train_score\":train_score, \"test_score\":test_score}, ignore_index=True)"
   ]
  },
  {
   "cell_type": "markdown",
   "metadata": {},
   "source": [
    "#### Checking for Significance"
   ]
  },
  {
   "cell_type": "code",
   "execution_count": 106,
   "metadata": {},
   "outputs": [
    {
     "name": "stdout",
     "output_type": "stream",
     "text": [
      "                            OLS Regression Results                            \n",
      "==============================================================================\n",
      "Dep. Variable:            murder_rate   R-squared:                       0.517\n",
      "Model:                            OLS   Adj. R-squared:                  0.512\n",
      "Method:                 Least Squares   F-statistic:                     90.20\n",
      "Date:                Thu, 07 Dec 2017   Prob (F-statistic):               0.00\n",
      "Time:                        20:21:32   Log-Likelihood:                -6356.8\n",
      "No. Observations:                2642   AIC:                         1.278e+04\n",
      "Df Residuals:                    2610   BIC:                         1.297e+04\n",
      "Df Model:                          31                                         \n",
      "Covariance Type:            nonrobust                                         \n",
      "====================================================================================\n",
      "                       coef    std err          t      P>|t|      [0.025      0.975]\n",
      "------------------------------------------------------------------------------------\n",
      "const                8.4276      4.871      1.730      0.084      -1.123      17.978\n",
      "r1                   2.5337      1.744      1.453      0.146      -0.886       5.954\n",
      "r2                  20.8673      1.732     12.046      0.000      17.470      24.264\n",
      "r3                   5.9533      2.644      2.251      0.024       0.768      11.138\n",
      "r4                  -0.2868      3.813     -0.075      0.940      -7.763       7.189\n",
      "r5                 -92.6253     12.888     -7.187      0.000    -117.898     -67.353\n",
      "r6                  19.8190      2.099      9.442      0.000      15.703      23.935\n",
      "r7                  52.1664      4.105     12.709      0.000      44.118      60.215\n",
      "m1                 168.1788     99.368      1.692      0.091     -26.670     363.028\n",
      "m2                 208.1425     99.566      2.090      0.037      12.906     403.379\n",
      "m3                 200.5634     99.469      2.016      0.044       5.518     395.609\n",
      "m4                 159.7407     99.794      1.601      0.110     -35.942     355.423\n",
      "m5                 188.2398     99.444      1.893      0.058      -6.758     383.238\n",
      "e1                  12.5317      4.103      3.054      0.002       4.487      20.577\n",
      "e2                  -5.6044      5.238     -1.070      0.285     -15.876       4.667\n",
      "e3                   5.2656      3.397      1.550      0.121      -1.395      11.926\n",
      "e4                  14.9219      4.714      3.166      0.002       5.679      24.165\n",
      "e5                   2.3612      1.671      1.413      0.158      -0.916       5.639\n",
      "a1                -206.4531     99.977     -2.065      0.039    -402.495     -10.411\n",
      "a2                -218.8110     99.614     -2.197      0.028    -414.141     -23.481\n",
      "a3                -172.0718    100.014     -1.720      0.085    -368.187      24.043\n",
      "a4                -217.1128    100.157     -2.168      0.030    -413.507     -20.718\n",
      "a5                -186.4847     99.819     -1.868      0.062    -382.217       9.248\n",
      "a6                -195.0243     99.665     -1.957      0.050    -390.455       0.406\n",
      "a7                -193.8795     99.422     -1.950      0.051    -388.834       1.075\n",
      "e6                  -3.0429      3.417     -0.890      0.373      -9.744       3.658\n",
      "vr                   2.2302      1.186      1.881      0.060      -0.095       4.555\n",
      "mtof                -1.0897      1.707     -0.638      0.523      -4.437       2.257\n",
      "pop_std             -0.0894      0.070     -1.275      0.202      -0.227       0.048\n",
      "i1_std              -0.7584      0.338     -2.244      0.025      -1.421      -0.096\n",
      "i2_std              -0.0205      0.373     -0.055      0.956      -0.751       0.710\n",
      "firearms_std        -0.0881      0.060     -1.477      0.140      -0.205       0.029\n",
      "multi_ethnic_std     0.1518      0.065      2.329      0.020       0.024       0.280\n",
      "==============================================================================\n",
      "Omnibus:                     1140.844   Durbin-Watson:                   1.992\n",
      "Prob(Omnibus):                  0.000   Jarque-Bera (JB):            13053.873\n",
      "Skew:                           1.727   Prob(JB):                         0.00\n",
      "Kurtosis:                      13.327   Cond. No.                     4.50e+15\n",
      "==============================================================================\n",
      "\n",
      "Warnings:\n",
      "[1] Standard Errors assume that the covariance matrix of the errors is correctly specified.\n",
      "[2] The smallest eigenvalue is 4.14e-28. This might indicate that there are\n",
      "strong multicollinearity problems or that the design matrix is singular.\n"
     ]
    }
   ],
   "source": [
    "x_train_with_constants = sm.add_constant(x_train)\n",
    "est = sm.OLS(y_train, x_train_with_constants)\n",
    "est = est.fit()\n",
    "print(est.summary())"
   ]
  },
  {
   "cell_type": "markdown",
   "metadata": {},
   "source": [
    "## Modelling Results"
   ]
  },
  {
   "cell_type": "code",
   "execution_count": 107,
   "metadata": {},
   "outputs": [],
   "source": [
    "results.index = results.model"
   ]
  },
  {
   "cell_type": "code",
   "execution_count": 108,
   "metadata": {},
   "outputs": [
    {
     "data": {
      "text/html": [
       "<div>\n",
       "<style>\n",
       "    .dataframe thead tr:only-child th {\n",
       "        text-align: right;\n",
       "    }\n",
       "\n",
       "    .dataframe thead th {\n",
       "        text-align: left;\n",
       "    }\n",
       "\n",
       "    .dataframe tbody tr th {\n",
       "        vertical-align: top;\n",
       "    }\n",
       "</style>\n",
       "<table border=\"1\" class=\"dataframe\">\n",
       "  <thead>\n",
       "    <tr style=\"text-align: right;\">\n",
       "      <th></th>\n",
       "      <th>train_score</th>\n",
       "      <th>test_score</th>\n",
       "    </tr>\n",
       "    <tr>\n",
       "      <th>model</th>\n",
       "      <th></th>\n",
       "      <th></th>\n",
       "    </tr>\n",
       "  </thead>\n",
       "  <tbody>\n",
       "    <tr>\n",
       "      <th>Linear Regression</th>\n",
       "      <td>0.516235</td>\n",
       "      <td>0.506611</td>\n",
       "    </tr>\n",
       "    <tr>\n",
       "      <th>Ridge Cross Validated</th>\n",
       "      <td>0.507715</td>\n",
       "      <td>0.491949</td>\n",
       "    </tr>\n",
       "    <tr>\n",
       "      <th>Lasso Cross Validated</th>\n",
       "      <td>0.500520</td>\n",
       "      <td>0.485036</td>\n",
       "    </tr>\n",
       "    <tr>\n",
       "      <th>Linear Regression with Polynomial Features</th>\n",
       "      <td>0.773114</td>\n",
       "      <td>0.546192</td>\n",
       "    </tr>\n",
       "    <tr>\n",
       "      <th>Lasso Cross Validated with Polynomial Features</th>\n",
       "      <td>0.662992</td>\n",
       "      <td>0.647014</td>\n",
       "    </tr>\n",
       "    <tr>\n",
       "      <th>Ridge Cross Validated with Polynomial Features</th>\n",
       "      <td>0.626490</td>\n",
       "      <td>0.618030</td>\n",
       "    </tr>\n",
       "    <tr>\n",
       "      <th>Linear Regression with Interaction</th>\n",
       "      <td>0.517228</td>\n",
       "      <td>0.507337</td>\n",
       "    </tr>\n",
       "    <tr>\n",
       "      <th>Lasso Cross Validated with Interaction</th>\n",
       "      <td>0.509099</td>\n",
       "      <td>0.493297</td>\n",
       "    </tr>\n",
       "    <tr>\n",
       "      <th>Ridge Cross Validated with Interaction</th>\n",
       "      <td>0.504211</td>\n",
       "      <td>0.489468</td>\n",
       "    </tr>\n",
       "  </tbody>\n",
       "</table>\n",
       "</div>"
      ],
      "text/plain": [
       "                                                train_score  test_score\n",
       "model                                                                  \n",
       "Linear Regression                                  0.516235    0.506611\n",
       "Ridge Cross Validated                              0.507715    0.491949\n",
       "Lasso Cross Validated                              0.500520    0.485036\n",
       "Linear Regression with Polynomial Features         0.773114    0.546192\n",
       "Lasso Cross Validated with Polynomial Features     0.662992    0.647014\n",
       "Ridge Cross Validated with Polynomial Features     0.626490    0.618030\n",
       "Linear Regression with Interaction                 0.517228    0.507337\n",
       "Lasso Cross Validated with Interaction             0.509099    0.493297\n",
       "Ridge Cross Validated with Interaction             0.504211    0.489468"
      ]
     },
     "execution_count": 108,
     "metadata": {},
     "output_type": "execute_result"
    }
   ],
   "source": [
    "results.drop(['model'], axis=1)"
   ]
  }
 ],
 "metadata": {
  "kernelspec": {
   "display_name": "Python 3",
   "language": "python",
   "name": "python3"
  },
  "language_info": {
   "codemirror_mode": {
    "name": "ipython",
    "version": 3
   },
   "file_extension": ".py",
   "mimetype": "text/x-python",
   "name": "python",
   "nbconvert_exporter": "python",
   "pygments_lexer": "ipython3",
   "version": "3.6.2"
  }
 },
 "nbformat": 4,
 "nbformat_minor": 2
}
