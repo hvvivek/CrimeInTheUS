{
 "cells": [
  {
   "cell_type": "markdown",
   "metadata": {
    "collapsed": true
   },
   "source": [
    "# Pre-processing"
   ]
  },
  {
   "cell_type": "markdown",
   "metadata": {},
   "source": [
    "### Import Libraries and Define functions"
   ]
  },
  {
   "cell_type": "code",
   "execution_count": 329,
   "metadata": {
    "collapsed": true
   },
   "outputs": [],
   "source": [
    "import numpy as np\n",
    "import pandas as pd\n",
    "import matplotlib\n",
    "import matplotlib.pyplot as plt\n",
    "\n",
    "from sklearn.metrics import r2_score\n",
    "import statsmodels.api as sm\n",
    "from statsmodels.api import OLS\n",
    "from sklearn.preprocessing import PolynomialFeatures\n",
    "from sklearn.linear_model import Ridge\n",
    "from sklearn.linear_model import Lasso\n",
    "from sklearn.linear_model import RidgeCV\n",
    "from sklearn.linear_model import LassoCV\n",
    "from sklearn.linear_model import LinearRegression\n",
    "\n",
    "from sklearn.model_selection import KFold\n",
    "from sklearn.decomposition import PCA\n",
    "\n",
    "#import pydotplus\n",
    "#import io\n",
    "from sklearn.tree import export_graphviz\n",
    "from IPython.display import Image\n",
    "from IPython.display import display\n",
    "import seaborn as sns\n",
    "%matplotlib inline"
   ]
  },
  {
   "cell_type": "code",
   "execution_count": 330,
   "metadata": {
    "collapsed": true
   },
   "outputs": [],
   "source": [
    "def despine():\n",
    "    sns.despine(left=True, bottom=True)\n",
    "    \n",
    "def get_axs(rows, columns, fig_size_width, fig_size_height):\n",
    "    dims = (fig_size_width, fig_size_height)\n",
    "    fig, axs = plt.subplots(rows, columns, figsize=dims)\n",
    "    if(rows*columns>1):\n",
    "         axs = axs.ravel()\n",
    "    return axs\n",
    "\n",
    "def get_accuracy_model(X, Y, model):\n",
    "    Y_pred = model.predict(X)\n",
    "    misclassification_rate = np.mean([int(x) for x in Y_pred != Y])\n",
    "    return 1 - misclassification_rate\n",
    "\n",
    "def get_accuracy_pred(Y, Y_pred):\n",
    "    misclassification_rate = np.mean([int(x) for x in Y_pred != Y])\n",
    "    return 1 - misclassification_rate\n",
    "\n",
    "def split_dataset(data, train_size_pc, y_col):\n",
    "    np.random.seed(9001)\n",
    "    msk = np.random.rand(len(data)) < train_size_pc\n",
    "    data_train = data[msk]\n",
    "    data_test = data[~msk]\n",
    "\n",
    "    x_train = data_train.iloc[:,0:y_col]\n",
    "    y_train = data_train.iloc[:,y_col]\n",
    "\n",
    "    x_test = data_test.iloc[:,0:y_col]\n",
    "    y_test = data_test.iloc[:,y_col]\n",
    "    return x_train, y_train, x_test, y_test\n",
    "\n",
    "def set_title_xlabel_ylabel(ax, title, xlabel, ylabel):\n",
    "    ax.set_title(title)\n",
    "    ax.set_xlabel(xlabel)\n",
    "    ax.set_ylabel(ylabel)"
   ]
  },
  {
   "cell_type": "code",
   "execution_count": 331,
   "metadata": {
    "collapsed": true
   },
   "outputs": [],
   "source": [
    "sns.set(rc={'axes.facecolor':'white', 'figure.facecolor':'white'})\n",
    "sns.set_style(\"whitegrid\")\n",
    "sns.set(font_scale=1.3)"
   ]
  },
  {
   "cell_type": "markdown",
   "metadata": {},
   "source": [
    "### Import required datasets"
   ]
  },
  {
   "cell_type": "code",
   "execution_count": 332,
   "metadata": {
    "collapsed": true
   },
   "outputs": [],
   "source": [
    "murder_data = pd.read_csv('murder_data.csv',  index_col = 0)\n",
    "census_data = pd.read_csv('census_data.csv',  index_col = 0)\n",
    "firearm_data = pd.read_csv('firearm_data.csv',  index_col = 0)"
   ]
  },
  {
   "cell_type": "code",
   "execution_count": 335,
   "metadata": {
    "collapsed": true
   },
   "outputs": [],
   "source": [
    "num_rows = murder_data.shape[0]\n",
    "murder_data['firearms'] = np.zeros(num_rows)\n",
    "for row_index in range(0,num_rows):\n",
    "    row = murder_data.iloc[row_index]\n",
    "    states = row['msa_state'].split(',')\n",
    "    firearms = [firearm_data.loc[state]['Firearm'] for state in states]\n",
    "    row_data = list(murder_data.iloc[row_index])\n",
    "    row_data[-1] = np.mean(firearms)\n",
    "    murder_data.iloc[row_index] = row_data"
   ]
  },
  {
   "cell_type": "code",
   "execution_count": 336,
   "metadata": {
    "collapsed": true
   },
   "outputs": [],
   "source": [
    "murder_data['firearms'] = murder_data['firearms'].astype(np.int)"
   ]
  },
  {
   "cell_type": "code",
   "execution_count": 337,
   "metadata": {
    "collapsed": true
   },
   "outputs": [],
   "source": [
    "num_rows = census_data.shape[0]"
   ]
  },
  {
   "cell_type": "markdown",
   "metadata": {},
   "source": [
    "### Combine using MSA codes and State codes"
   ]
  },
  {
   "cell_type": "code",
   "execution_count": 339,
   "metadata": {
    "collapsed": true
   },
   "outputs": [],
   "source": [
    "census_data['firearms'] = np.zeros(num_rows)\n",
    "census_data['murder_rate'] = np.zeros(num_rows)\n",
    "\n",
    "for row_index in range(0, num_rows):\n",
    "    row = census_data.iloc[row_index]\n",
    "    murder_rate = murder_data[murder_data['code'] == int(row['msa'])][str(int(row['year']))]\n",
    "    firearms    = murder_data[murder_data['code'] == int(row['msa'])]['firearms']\n",
    "    if (len(murder_rate)>0) & (len(firearms)>0):\n",
    "        murder_rate = murder_rate.iloc[0]\n",
    "        firearms = firearms.iloc[0]\n",
    "    else:\n",
    "        murder_rate = -1\n",
    "        firearms = -1\n",
    "    row_data = list(row)\n",
    "    row_data[-1] = float(murder_rate)\n",
    "    row_data[-2] = int(firearms)\n",
    "    census_data.iloc[row_index] = row_data"
   ]
  },
  {
   "cell_type": "markdown",
   "metadata": {},
   "source": [
    "### Export to master dataset"
   ]
  },
  {
   "cell_type": "code",
   "execution_count": 340,
   "metadata": {
    "collapsed": true
   },
   "outputs": [],
   "source": [
    "census_data.to_csv(\"crime_data.csv\")"
   ]
  }
 ],
 "metadata": {
  "kernelspec": {
   "display_name": "Python 3",
   "language": "python",
   "name": "python3"
  },
  "language_info": {
   "codemirror_mode": {
    "name": "ipython",
    "version": 3
   },
   "file_extension": ".py",
   "mimetype": "text/x-python",
   "name": "python",
   "nbconvert_exporter": "python",
   "pygments_lexer": "ipython3",
   "version": "3.6.2"
  }
 },
 "nbformat": 4,
 "nbformat_minor": 2
}
